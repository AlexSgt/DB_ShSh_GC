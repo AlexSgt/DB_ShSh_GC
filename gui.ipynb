{
  "cells": [
    {
      "cell_type": "markdown",
      "metadata": {
        "id": "view-in-github",
        "colab_type": "text"
      },
      "source": [
        "<a href=\"https://colab.research.google.com/github/AlexSgt/Dreambooth_SS/blob/main/gui.ipynb\" target=\"_parent\"><img src=\"https://colab.research.google.com/assets/colab-badge.svg\" alt=\"Open In Colab\"/></a>"
      ]
    },
    {
      "cell_type": "code",
      "execution_count": null,
      "metadata": {
        "colab": {
          "base_uri": "https://localhost:8080/"
        },
        "id": "w6cghMPalJJv",
        "outputId": "47339933-7d4c-4ead-f36d-90eb4e189adf"
      },
      "outputs": [
        {
          "output_type": "stream",
          "name": "stdout",
          "text": [
            "Mounted at /content/gdrive\n"
          ]
        }
      ],
      "source": [
        "from google.colab import drive\n",
        "drive.mount('/content/gdrive')"
      ]
    },
    {
      "cell_type": "code",
      "execution_count": null,
      "metadata": {
        "colab": {
          "base_uri": "https://localhost:8080/",
          "height": 49,
          "referenced_widgets": [
            "098a97ccded74b7083fdfe4040379117",
            "dfa4d3f1a7244494aaf53f9ca6d0a93d",
            "ff1e85b8b2b9475a9088bee50730acc6"
          ]
        },
        "id": "js5FCWWolJJy",
        "outputId": "e555e849-cc45-413b-bd5b-a7cc0e40e72d"
      },
      "outputs": [
        {
          "output_type": "display_data",
          "data": {
            "text/plain": [
              "Button(button_style='success', description='✔ Done', disabled=True, layout=Layout(min_width='50px'), style=But…"
            ],
            "application/vnd.jupyter.widget-view+json": {
              "version_major": 2,
              "version_minor": 0,
              "model_id": "098a97ccded74b7083fdfe4040379117"
            }
          },
          "metadata": {}
        }
      ],
      "source": [
        "#@markdown # Install/Update Kohya_ss WebUI\n",
        "from IPython.display import clear_output\n",
        "from IPython.utils import capture\n",
        "from subprocess import getoutput\n",
        "import ipywidgets as widgets\n",
        "import sys\n",
        "import fileinput\n",
        "import os\n",
        "import time\n",
        "\n",
        "if not os.path.exists(\"/content/gdrive/MyDrive/\"):\n",
        "    print('\u001b[1;31mGdrive not connected, using colab storage ...')\n",
        "    time.sleep(4)\n",
        "    !mkdir -p /content/gdrive/MyDrive/\n",
        "with capture.capture_output() as cap:\n",
        "    def inf(msg, style, wdth):\n",
        "        inf = widgets.Button(description=msg, disabled=True, button_style=style, layout=widgets.Layout(min_width=wdth))\n",
        "        display(inf)\n",
        "\n",
        "    %mkdir -p /content/gdrive/MyDrive/sd\n",
        "    %cd /content/gdrive/MyDrive/sd\n",
        "    !git clone https://github.com/Spaceginner/kohya_ss_colab kohya_ss\n",
        "    !mkdir -p /content/gdrive/MyDrive/sd/kohya_ss/cache/huggingface\n",
        "    !ln -s /content/gdrive/MyDrive/sd/kohya_ss/cache/huggingface /root/.cache/\n",
        "\n",
        "with capture.capture_output() as cap:\n",
        "    %cd /content/gdrive/MyDrive/sd/kohya_ss/\n",
        "    !git reset --hard\n",
        "    time.sleep(1)\n",
        "print('\u001b[1;32m')\n",
        "!git pull\n",
        "clear_output()\n",
        "inf('\\u2714 Done','success', '50px')"
      ]
    },
    {
      "cell_type": "code",
      "execution_count": null,
      "metadata": {
        "colab": {
          "base_uri": "https://localhost:8080/",
          "height": 49,
          "referenced_widgets": [
            "a0a91e49408640d285ffe2025c790e0d",
            "11c6a46a58a142f59b0c5678eee750cb",
            "5a352e3413444490a09dc458d30835b0"
          ]
        },
        "id": "jLIQUw2rlJJz",
        "outputId": "e0262103-fe8e-4a0e-f343-b78c9d9812ae"
      },
      "outputs": [
        {
          "output_type": "display_data",
          "data": {
            "text/plain": [
              "Button(button_style='success', description='✔ Done', disabled=True, layout=Layout(min_width='50px'), style=But…"
            ],
            "application/vnd.jupyter.widget-view+json": {
              "version_major": 2,
              "version_minor": 0,
              "model_id": "a0a91e49408640d285ffe2025c790e0d"
            }
          },
          "metadata": {}
        }
      ],
      "source": [
        "#@markdown # Requirements\n",
        "\n",
        "print('\u001b[1;32mInstalling requirements...')\n",
        "\n",
        "with capture.capture_output() as cap:\n",
        "    %cd /content/gdrive/MyDrive/sd/kohya_ss/\n",
        "    # !pip install torch==1.12.1+cu116 torchvision==0.13.1+cu116 --extra-index-url https://download.pytorch.org/whl/cu116\n",
        "    !pip install -r requirements.txt\n",
        "\n",
        "clear_output()\n",
        "inf('\\u2714 Done','success', '50px')"
      ]
    },
    {
      "cell_type": "code",
      "source": [
        "rm -r /content/gdrive/MyDrive/sd/kohya_ss/Lora"
      ],
      "metadata": {
        "id": "3LrwFJy5Xc2u"
      },
      "execution_count": null,
      "outputs": []
    },
    {
      "cell_type": "code",
      "source": [
        "import os\n",
        "from google.colab import files\n",
        "import shutil\n",
        "\n",
        "folders = ['input', 'output', 'log', 'config']\n",
        "base_path = '/content/gdrive/MyDrive/sd/kohya_ss/Lora/'\n",
        "trigger_word = \"Leviu\" #@param {type:\"string\"}\n",
        "\n",
        "for folder in folders:\n",
        "  os.makedirs(base_path + folder, exist_ok=True)\n",
        "\n",
        "input_folder_path = base_path + folders[0] \n",
        "print(f\"Uploading instance images to {input_folder_path}\")\n",
        "uploaded = files.upload()\n",
        "\n",
        "num_files = len([k for k in uploaded.keys() if '.txt' not in k])\n",
        "CONST = 1500\n",
        "\n",
        "#If your value is less than %step_limit%, then %step_limit% will be the default\n",
        "step_limit = 125 #@param {type:\"integer\"}\n",
        "\n",
        "if int(CONST / num_files) < step_limit:\n",
        "  num_f = step_limit\n",
        "else:\n",
        "  num_f = int(CONST / num_files)\n",
        "\n",
        "num_input = input_folder_path + f'/{num_f}_{trigger_word}'\n",
        "os.makedirs(num_input, exist_ok=True)\n",
        "\n",
        "for filename in uploaded.keys():\n",
        "    dst_path = os.path.join(num_input, filename)\n",
        "    shutil.move(filename, dst_path)"
      ],
      "metadata": {
        "id": "3iQMx4KbWqr9"
      },
      "execution_count": null,
      "outputs": []
    },
    {
      "cell_type": "code",
      "source": [
        "cp -R Lora/input/100_Leviu Lora/input/125_Leviu"
      ],
      "metadata": {
        "id": "iq8aL0waH5W9"
      },
      "execution_count": null,
      "outputs": []
    },
    {
      "cell_type": "code",
      "execution_count": null,
      "metadata": {
        "colab": {
          "base_uri": "https://localhost:8080/"
        },
        "id": "9xplvOJLlJJ0",
        "outputId": "6016f713-0e89-4e6b-80e9-4d4f64c36ad9"
      },
      "outputs": [
        {
          "output_type": "stream",
          "name": "stdout",
          "text": [
            "Load CSS...\n",
            "{}\n",
            "Running on local URL:  http://127.0.0.1:7860\n",
            "Running on public URL: https://52977e98-a9de-4cc0.gradio.live\n",
            "\n",
            "This share link expires in 72 hours. For free permanent hosting and GPU upgrades (NEW!), check out Spaces: https://huggingface.co/spaces\n",
            "Folder 125_Leviu: 2500 steps\n",
            "max_train_steps = 2500\n",
            "stop_text_encoder_training = 0\n",
            "lr_warmup_steps = 0\n",
            "python /content/gdrive/MyDrive/sd/kohya_ss/train_network.py --pretrained_model_name_or_path=XpucT/Deliberate --train_data_dir=Lora/input --resolution=512,512 --output_dir=Lora/output --logging_dir=Lora/log --network_alpha=128 --training_comment=Trigger: 125_Leviu_1e-5 --save_model_as=safetensors --network_module=networks.lora --text_encoder_lr=5e-5 --unet_lr=0.0001 --network_dim=128 --output_name=125_Leviu_1e-5 --lr_scheduler_num_cycles=1 --learning_rate=0.00001 --lr_scheduler=constant --train_batch_size=1 --max_train_steps=2500 --save_every_n_epochs=1 --mixed_precision=fp16 --save_precision=fp16 --seed=1337 --caption_extension=.txt --cache_latents --max_data_loader_n_workers=1 --clip_skip=2 --bucket_reso_steps=64 --xformers --bucket_no_upscale\n",
            "prepare tokenizer\n",
            "Use DreamBooth method.\n",
            "prepare train images.\n",
            "found directory 125_Leviu contains 20 image files\n",
            "2500 train images with repeating.\n",
            "loading image sizes.\n",
            "prepare dataset\n",
            "prepare accelerator\n",
            "Using accelerator 0.15.0 or above.\n",
            "load Diffusers pretrained models\n",
            "Replace CrossAttention.forward to use xformers\n",
            "caching latents.\n",
            "import network module: networks.lora\n",
            "create LoRA for Text Encoder: 72 modules.\n",
            "create LoRA for U-Net: 192 modules.\n",
            "enable LoRA for text encoder\n",
            "enable LoRA for U-Net\n",
            "prepare optimizer, data loader etc.\n",
            "running training / 学習開始\n",
            "  num train images * repeats / 学習画像の数×繰り返し回数: 2500\n",
            "  num reg images / 正則化画像の数: 0\n",
            "  num batches per epoch / 1epochのバッチ数: 2500\n",
            "  num epochs / epoch数: 1\n",
            "  batch size per device / バッチサイズ: 1\n",
            "  total train batch size (with parallel & distributed & accumulation) / 総バッチサイズ（並列学習、勾配合計含む）: 1\n",
            "  gradient accumulation steps / 勾配を合計するステップ数 = 1\n",
            "  total optimization steps / 学習ステップ数: 2500\n",
            "epoch 1/1\n"
          ]
        }
      ],
      "source": [
        "#@markdown # Start Kohya ss WebUI\n",
        "\n",
        "User = \"\" #@param {type:\"string\"}\n",
        "Password = \"\" #@param {type:\"string\"}\n",
        "#@markdown - Add credentials to your Gradio interface (optional).\n",
        "\n",
        "if User and Password:\n",
        "    !python /content/gdrive/MyDrive/sd/kohya_ss/kohya_gui.py --username $User --password $Password\n",
        "else:\n",
        "    !python /content/gdrive/MyDrive/sd/kohya_ss/lora_gui.py 2>> Lora/terminal_log/terminal_log.txt"
      ]
    }
  ],
  "metadata": {
    "accelerator": "GPU",
    "colab": {
      "provenance": [],
      "include_colab_link": true
    },
    "gpuClass": "standard",
    "kernelspec": {
      "display_name": "Python 3",
      "language": "python",
      "name": "python3"
    },
    "language_info": {
      "codemirror_mode": {
        "name": "ipython",
        "version": 2
      },
      "file_extension": ".py",
      "mimetype": "text/x-python",
      "name": "python",
      "nbconvert_exporter": "python",
      "pygments_lexer": "ipython2",
      "version": "2.7.6"
    },
    "widgets": {
      "application/vnd.jupyter.widget-state+json": {
        "098a97ccded74b7083fdfe4040379117": {
          "model_module": "@jupyter-widgets/controls",
          "model_name": "ButtonModel",
          "model_module_version": "1.5.0",
          "state": {
            "_dom_classes": [],
            "_model_module": "@jupyter-widgets/controls",
            "_model_module_version": "1.5.0",
            "_model_name": "ButtonModel",
            "_view_count": null,
            "_view_module": "@jupyter-widgets/controls",
            "_view_module_version": "1.5.0",
            "_view_name": "ButtonView",
            "button_style": "success",
            "description": "✔ Done",
            "disabled": true,
            "icon": "",
            "layout": "IPY_MODEL_dfa4d3f1a7244494aaf53f9ca6d0a93d",
            "style": "IPY_MODEL_ff1e85b8b2b9475a9088bee50730acc6",
            "tooltip": ""
          }
        },
        "dfa4d3f1a7244494aaf53f9ca6d0a93d": {
          "model_module": "@jupyter-widgets/base",
          "model_name": "LayoutModel",
          "model_module_version": "1.2.0",
          "state": {
            "_model_module": "@jupyter-widgets/base",
            "_model_module_version": "1.2.0",
            "_model_name": "LayoutModel",
            "_view_count": null,
            "_view_module": "@jupyter-widgets/base",
            "_view_module_version": "1.2.0",
            "_view_name": "LayoutView",
            "align_content": null,
            "align_items": null,
            "align_self": null,
            "border": null,
            "bottom": null,
            "display": null,
            "flex": null,
            "flex_flow": null,
            "grid_area": null,
            "grid_auto_columns": null,
            "grid_auto_flow": null,
            "grid_auto_rows": null,
            "grid_column": null,
            "grid_gap": null,
            "grid_row": null,
            "grid_template_areas": null,
            "grid_template_columns": null,
            "grid_template_rows": null,
            "height": null,
            "justify_content": null,
            "justify_items": null,
            "left": null,
            "margin": null,
            "max_height": null,
            "max_width": null,
            "min_height": null,
            "min_width": "50px",
            "object_fit": null,
            "object_position": null,
            "order": null,
            "overflow": null,
            "overflow_x": null,
            "overflow_y": null,
            "padding": null,
            "right": null,
            "top": null,
            "visibility": null,
            "width": null
          }
        },
        "ff1e85b8b2b9475a9088bee50730acc6": {
          "model_module": "@jupyter-widgets/controls",
          "model_name": "ButtonStyleModel",
          "model_module_version": "1.5.0",
          "state": {
            "_model_module": "@jupyter-widgets/controls",
            "_model_module_version": "1.5.0",
            "_model_name": "ButtonStyleModel",
            "_view_count": null,
            "_view_module": "@jupyter-widgets/base",
            "_view_module_version": "1.2.0",
            "_view_name": "StyleView",
            "button_color": null,
            "font_weight": ""
          }
        },
        "a0a91e49408640d285ffe2025c790e0d": {
          "model_module": "@jupyter-widgets/controls",
          "model_name": "ButtonModel",
          "model_module_version": "1.5.0",
          "state": {
            "_dom_classes": [],
            "_model_module": "@jupyter-widgets/controls",
            "_model_module_version": "1.5.0",
            "_model_name": "ButtonModel",
            "_view_count": null,
            "_view_module": "@jupyter-widgets/controls",
            "_view_module_version": "1.5.0",
            "_view_name": "ButtonView",
            "button_style": "success",
            "description": "✔ Done",
            "disabled": true,
            "icon": "",
            "layout": "IPY_MODEL_11c6a46a58a142f59b0c5678eee750cb",
            "style": "IPY_MODEL_5a352e3413444490a09dc458d30835b0",
            "tooltip": ""
          }
        },
        "11c6a46a58a142f59b0c5678eee750cb": {
          "model_module": "@jupyter-widgets/base",
          "model_name": "LayoutModel",
          "model_module_version": "1.2.0",
          "state": {
            "_model_module": "@jupyter-widgets/base",
            "_model_module_version": "1.2.0",
            "_model_name": "LayoutModel",
            "_view_count": null,
            "_view_module": "@jupyter-widgets/base",
            "_view_module_version": "1.2.0",
            "_view_name": "LayoutView",
            "align_content": null,
            "align_items": null,
            "align_self": null,
            "border": null,
            "bottom": null,
            "display": null,
            "flex": null,
            "flex_flow": null,
            "grid_area": null,
            "grid_auto_columns": null,
            "grid_auto_flow": null,
            "grid_auto_rows": null,
            "grid_column": null,
            "grid_gap": null,
            "grid_row": null,
            "grid_template_areas": null,
            "grid_template_columns": null,
            "grid_template_rows": null,
            "height": null,
            "justify_content": null,
            "justify_items": null,
            "left": null,
            "margin": null,
            "max_height": null,
            "max_width": null,
            "min_height": null,
            "min_width": "50px",
            "object_fit": null,
            "object_position": null,
            "order": null,
            "overflow": null,
            "overflow_x": null,
            "overflow_y": null,
            "padding": null,
            "right": null,
            "top": null,
            "visibility": null,
            "width": null
          }
        },
        "5a352e3413444490a09dc458d30835b0": {
          "model_module": "@jupyter-widgets/controls",
          "model_name": "ButtonStyleModel",
          "model_module_version": "1.5.0",
          "state": {
            "_model_module": "@jupyter-widgets/controls",
            "_model_module_version": "1.5.0",
            "_model_name": "ButtonStyleModel",
            "_view_count": null,
            "_view_module": "@jupyter-widgets/base",
            "_view_module_version": "1.2.0",
            "_view_name": "StyleView",
            "button_color": null,
            "font_weight": ""
          }
        }
      }
    }
  },
  "nbformat": 4,
  "nbformat_minor": 0
}